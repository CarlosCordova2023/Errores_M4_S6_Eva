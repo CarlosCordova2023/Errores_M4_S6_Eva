{
  "nbformat": 4,
  "nbformat_minor": 0,
  "metadata": {
    "colab": {
      "provenance": [],
      "authorship_tag": "ABX9TyPsq3uW0ZB1MBv2EW2M01xt",
      "include_colab_link": true
    },
    "kernelspec": {
      "name": "python3",
      "display_name": "Python 3"
    },
    "language_info": {
      "name": "python"
    }
  },
  "cells": [
    {
      "cell_type": "markdown",
      "metadata": {
        "id": "view-in-github",
        "colab_type": "text"
      },
      "source": [
        "<a href=\"https://colab.research.google.com/github/CarlosCordova2023/Errores_M4_S6_Eva/blob/main/Errores.ipynb\" target=\"_parent\"><img src=\"https://colab.research.google.com/assets/colab-badge.svg\" alt=\"Open In Colab\"/></a>"
      ]
    },
    {
      "cell_type": "code",
      "execution_count": 1,
      "metadata": {
        "colab": {
          "base_uri": "https://localhost:8080/"
        },
        "id": "ub0I2SnMZNwg",
        "outputId": "42c11379-31e0-44be-efe9-9b7ea4f21776"
      },
      "outputs": [
        {
          "output_type": "stream",
          "name": "stdout",
          "text": [
            "La clave 004 no está en el diccionario. Añadiendo clave...\n",
            "{'001': 'Marca', '002': 'Mónica', '003': 'Jacob', '004': 'Ninguno'}\n"
          ]
        }
      ],
      "source": [
        "usuarios = {'001': 'Marca', '002': 'Mónica', '003': 'Jacob'}\n",
        "id_usuario = '004'\n",
        "\n",
        "try:\n",
        "    print(usuarios[id_usuario])\n",
        "except KeyError:\n",
        "    print(f'La clave {id_usuario} no está en el diccionario. Añadiendo clave...')\n",
        "    usuarios[id_usuario] = 'Ninguno'\n",
        "    print(usuarios)\n"
      ]
    }
  ]
}